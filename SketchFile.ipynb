{
 "cells": [
  {
   "cell_type": "markdown",
   "id": "05ec2f7c-f650-49bd-8296-be396b0f43a2",
   "metadata": {},
   "source": [
    "# Zombie modelling\n"
   ]
  },
  {
   "cell_type": "code",
   "execution_count": 2,
   "id": "f25eca69-6116-4144-a957-da33d65e3bd6",
   "metadata": {},
   "outputs": [],
   "source": [
    "# Import dependencies\n",
    "\n",
    "\n",
    "import os\n",
    "import geopandas as gpd\n",
    "import matplotlib.pyplot as plt\n",
    "import seaborn as sns\n",
    "import xarray\n",
    "import rioxarray\n",
    "\n",
    "from geocube.api.core import make_geocube"
   ]
  },
  {
   "cell_type": "code",
   "execution_count": null,
   "id": "e9dcd262-2f09-44ec-83cd-790bee1c272e",
   "metadata": {},
   "outputs": [],
   "source": []
  },
  {
   "cell_type": "code",
   "execution_count": null,
   "id": "24a3d6e9-2371-4b42-bf78-317aca0b2794",
   "metadata": {},
   "outputs": [],
   "source": []
  }
 ],
 "metadata": {
  "kernelspec": {
   "display_name": "Python 3 (ipykernel)",
   "language": "python",
   "name": "python3"
  },
  "language_info": {
   "codemirror_mode": {
    "name": "ipython",
    "version": 3
   },
   "file_extension": ".py",
   "mimetype": "text/x-python",
   "name": "python",
   "nbconvert_exporter": "python",
   "pygments_lexer": "ipython3",
   "version": "3.10.9"
  }
 },
 "nbformat": 4,
 "nbformat_minor": 5
}
